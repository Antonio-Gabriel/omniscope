{
 "cells": [
  {
   "metadata": {
    "ExecuteTime": {
     "end_time": "2024-08-20T12:25:04.224251Z",
     "start_time": "2024-08-20T12:25:03.852519Z"
    }
   },
   "cell_type": "code",
   "source": [
    "from models.domain import ProductsOrServicesRepository\n",
    "from models.semantic import Ontology"
   ],
   "id": "4d265fcd1e340e04",
   "outputs": [],
   "execution_count": 1
  },
  {
   "metadata": {
    "ExecuteTime": {
     "end_time": "2024-08-20T12:25:04.777809Z",
     "start_time": "2024-08-20T12:25:04.774103Z"
    }
   },
   "cell_type": "code",
   "source": [
    "ontology = Ontology()\n",
    "repository = ProductsOrServicesRepository(ontology)"
   ],
   "id": "b2ae25cabf180f86",
   "outputs": [],
   "execution_count": 2
  },
  {
   "metadata": {
    "ExecuteTime": {
     "end_time": "2024-08-20T12:25:05.499771Z",
     "start_time": "2024-08-20T12:25:05.493382Z"
    }
   },
   "cell_type": "code",
   "source": "ontology.wp.api_url_for_entity('ofertas')",
   "id": "a299d5d50a4e9107",
   "outputs": [
    {
     "data": {
      "text/plain": [
       "'https://ontologia.eximia.co/wp-json/wp/v2/ofertas'"
      ]
     },
     "execution_count": 3,
     "metadata": {},
     "output_type": "execute_result"
    }
   ],
   "execution_count": 3
  },
  {
   "metadata": {
    "ExecuteTime": {
     "end_time": "2024-08-20T12:25:06.644010Z",
     "start_time": "2024-08-20T12:25:06.250756Z"
    }
   },
   "cell_type": "code",
   "source": "result = repository.get_all()",
   "id": "a3b3fdea414c78d3",
   "outputs": [],
   "execution_count": 4
  },
  {
   "metadata": {
    "ExecuteTime": {
     "end_time": "2024-08-20T12:25:08.212421Z",
     "start_time": "2024-08-20T12:25:08.207440Z"
    }
   },
   "cell_type": "code",
   "source": "result.values()",
   "id": "c964d83b3cf32c50",
   "outputs": [
    {
     "data": {
      "text/plain": [
       "dict_values([ProductOrService(id=6761, name='Implantação da Capability de Gestão do Conhecimento', slug='implantacao-da-capability-de-gestao-do-conhecimento', cover_image_url='https://ontologia.eximia.co/wp-content/uploads/2024/05/img-placeholder-4.jpg'), ProductOrService(id=6295, name='Mentoria de Gerenciamento de Produtos', slug='mentoria-de-gerenciamento-de-produtos', cover_image_url='https://ontologia.eximia.co/wp-content/uploads/2024/07/DALL·E-2024-07-25-15.21.56-An-image-representing-a-mentoring-program-for-Product-Managers-PMs-and-Product-Owners-POs-in-a-corporate-setting.-Show-a-diverse-group-of-business.webp'), ProductOrService(id=785, name='Organização de Times de Engenharia de Software', slug='organizacao-de-times-de-engenharia-de-software', cover_image_url='/assets/who_is_it.jpeg'), ProductOrService(id=4724, name='Workshop', slug='workshop', cover_image_url='https://ontologia.eximia.co/wp-content/uploads/2024/05/DALL·E-2024-05-30-15.48.50-A-large-seminar-for-high-level-executives-in-a-grand-event-hall.-The-speaker-a-bald-man-wearing-glasses-stands-on-a-stage-in-front-of-a-massive-scre.webp'), ProductOrService(id=4719, name='Seminários', slug='seminarios', cover_image_url='https://ontologia.eximia.co/wp-content/uploads/2024/05/DALL·E-2024-05-30-15.11.22-A-large-seminar-with-200-technology-professionals-in-a-grand-event-hall.-The-speaker-a-bald-man-wearing-glasses-stands-on-a-stage-in-front-of-a-mass.webp'), ProductOrService(id=4374, name='TechForce EximiaCo', slug='techforce-eximiaco', cover_image_url='https://ontologia.eximia.co/wp-content/uploads/2024/05/DALL·E-2024-05-16-17.05.50-A-formal-and-minimalistic-image-representing-the-Especialista-Sob-Demanda-offer.-The-image-should-be-in-16_9-format-and-feature-icons-representing-k.webp'), ProductOrService(id=776, name='OLD &#8211; Follow the Code &#8211; ENTERPRISE', slug='old-8211-follow-the-code-8211-enterprise', cover_image_url='https://ontologia.eximia.co/wp-content/uploads/2024/03/DALL·E-2024-03-27-10.35.58-Imagine-a-visual-representation-that-encapsulates-the-essence-of-the-Follow-the-Code-service-offered-by-a-technology-consulting-firm.-This-service-i.webp'), ProductOrService(id=6790, name='Consultoria para Implantação da Capability de Gestão do Conhecimento', slug='consultoria-para-implantacao-da-capability-de-gestao-do-conhecimento', cover_image_url='https://ontologia.eximia.co/wp-content/uploads/2024/07/tbdc.webp'), ProductOrService(id=6377, name='Mentoria em Gestão Estratégica de Produtos (in-company)', slug='mentoria-em-gestao-estrategica-de-produtos-in-company', cover_image_url='https://ontologia.eximia.co/wp-content/uploads/2024/07/elemarjr_a_tech_company_stand_with_a_lot_of_people._big_fair._H_547e7f63-07e9-4023-a35b-07844c609507.png'), ProductOrService(id=6027, name='Follow the Code &#8211; Enterprise', slug='follow-the-code-8211-enterprise', cover_image_url='https://ontologia.eximia.co/wp-content/uploads/2024/07/DALL·E-2024-07-15-15.10.38-A-wide-view-of-a-modern-software-engineering-workplace.-The-open-office-space-features-rows-of-desks-with-multiple-monitors-displaying-code-large-win.webp'), ProductOrService(id=5974, name='Assessment para Levantamento da Arquitetura Corporativa', slug='assessment-para-levantamento-da-arquitetura-corporativa', cover_image_url='https://ontologia.eximia.co/wp-content/uploads/2024/07/WhatsApp-Image-2024-07-10-at-16.24.37.jpeg'), ProductOrService(id=5660, name='Consultoria em Arquitetura de Frontend', slug='consultoria-em-arquitetura-de-frontend', cover_image_url='https://ontologia.eximia.co/wp-content/uploads/2024/07/DALL·E-2024-07-04-12.23.06-A-formal-business-oriented-image-in-16_9-format.-The-image-includes-an-office-setting-with-a-professional-looking-programmer-working-on-a-computer.-Th.webp'), ProductOrService(id=5657, name='Workshop Desenvolvimento de Sistemas Distribuídos em C#', slug='workshop-desenvolvimento-de-sistemas-distribuidos-em-c', cover_image_url='https://ontologia.eximia.co/wp-content/uploads/2024/07/DALL·E-2024-07-04-10.58.55-A-professional-training-session-for-senior-developers-and-technical-leaders-focusing-on-distributed-systems-development-using-C.-The-scene-features-a.webp'), ProductOrService(id=5458, name='Consultoria para Implementação de Soluções de Business Intelligence (BI)', slug='consultoria-para-implementacao-de-solucoes-de-business-intelligence-bi', cover_image_url='https://ontologia.eximia.co/wp-content/uploads/2024/06/DALL·E-2024-06-27-17.04.03-A-detailed-close-up-of-an-executive-in-a-modern-office-focused-on-a-laptop-screen-displaying-a-sophisticated-Business-Intelligence-BI-dashboard.-Th.webp'), ProductOrService(id=5384, name='Estruturação da Capability de Arquitetura de Tecnologia de Operações (OT Architecture)', slug='estruturacao-da-capability-de-arquitetura-de-tecnologia-de-operacoes-ot-architecture', cover_image_url='https://ontologia.eximia.co/wp-content/uploads/2024/06/DALL·E-2024-06-26-15.02.42-A-high-tech-setting-focusing-on-the-integration-and-automation-of-smaller-systems-without-an-industrial-context.-The-image-should-include-advanced-sof.webp'), ProductOrService(id=5361, name='Suporte ao RavenDB no Brasil', slug='suporte-ao-ravendb-no-brasil', cover_image_url='https://ontologia.eximia.co/wp-content/uploads/2024/06/DALL·E-2024-06-26-07.47.43-An-engaging-16_9-promotional-image-for-EximiaCos-specialized-RavenDB-support-service.-The-image-should-feature-a-sleek-and-modern-design-with-a-techn.webp'), ProductOrService(id=5356, name='Avaliação Tecnológica e Due Diligence', slug='avaliacao-tecnologica-e-due-diligence', cover_image_url='https://ontologia.eximia.co/wp-content/uploads/2024/06/DALL·E-2024-06-25-10.23.57-A-professional-modern-image-representing-Technological-Assessment-and-Due-Diligence.-The-image-should-include-elements-such-as-a-checklist-technical.webp'), ProductOrService(id=5243, name='Consultoria para Finops', slug='consultoria-para-finops', cover_image_url='https://ontologia.eximia.co/wp-content/uploads/2024/06/DALL·E-2024-06-19-14.30.02-A-modern-office-environment-focusing-on-FinOps-Financial-Operations-for-cloud-management.-The-scene-includes-large-screens-displaying-financial-grap.webp'), ProductOrService(id=5032, name='Workshop &#8211; SQL na Velocidade da Luz', slug='workshop-8211-sql-na-velocidade-da-luz', cover_image_url='https://ontologia.eximia.co/wp-content/uploads/2024/06/DALL·E-2024-06-12-17.59.08-A-formal-workshop-setting-with-professionals-engaged-in-a-training-session.-A-diverse-group-of-participants-including-data-analysts-software-develop.webp'), ProductOrService(id=4977, name='Workshop &#8211; DDD do Jeito Certo', slug='workshop-8211-ddd-do-jeito-certo', cover_image_url='https://ontologia.eximia.co/wp-content/uploads/2024/06/DALL·E-2024-06-11-10.49.30-An-illustration-representing-the-key-concepts-of-Domain-Driven-Design-DDD-in-a-structured-and-visually-appealing-manner.-The-image-includes-elements.webp'), ProductOrService(id=4825, name='Consultoria para a Engenharia de Alta Performance', slug='consultoria-para-a-engenharia-de-alta-performance', cover_image_url='https://ontologia.eximia.co/wp-content/uploads/2024/06/estruturacao-engenharia.png'), ProductOrService(id=4782, name='Estruturação da Capability de Engenharia de Software &#8211; Engenharia de Alta Performance', slug='estruturacao-da-capability-de-engenharia-de-software-8211-engenharia-de-alta-performance', cover_image_url='https://ontologia.eximia.co/wp-content/uploads/2024/05/DALL·E-2024-05-31-15.18.25-A-formal-and-professional-image-representing-the-offer-Structuring-Software-Engineering-Capability.-The-image-is-set-in-a-16_9-format-and-includes-e.webp'), ProductOrService(id=4716, name='Programas de Capacitação EximiaCo.', slug='programas-de-capacitacao-eximiaco', cover_image_url='https://ontologia.eximia.co/wp-content/uploads/2024/05/DALL·E-2024-05-30-12.07.37-A-modern-corporate-training-session-with-a-bald-speaker-wearing-glasses-standing-in-front-of-a-large-screen.-The-scene-depicts-different-training-met.webp'), ProductOrService(id=4611, name='Consultoria em Arquitetura de Software', slug='consultoria-em-arquitetura-de-software', cover_image_url='https://ontologia.eximia.co/wp-content/uploads/2024/05/DALL·E-2024-05-24-15.07.15-A-formal-business-image-showcasing-the-essential-items-and-documents-fundamental-for-software-architecture.-The-image-should-be-in-a-16_9-ratio-and-su.webp'), ProductOrService(id=4591, name='Consultoria para Privacidade de Dados', slug='consultoria-para-privacidade-de-dados', cover_image_url='https://ontologia.eximia.co/wp-content/uploads/2024/05/DALL·E-2024-05-23-17.05.42-A-professional-and-formal-image-showcasing-the-commercial-benefits-of-Data-Privacy-Consulting-with-a-focus-on-the-concept-of-private-data.-The-image-.webp'), ProductOrService(id=4589, name='Consultoria para Segurança Cibernética', slug='consultoria-para-seguranca-cibernetica', cover_image_url='https://ontologia.eximia.co/wp-content/uploads/2024/05/DALL·E-2024-05-23-17.03.19-A-formal-business-oriented-image-depicting-the-benefits-of-cybersecurity-consulting.-The-scene-shows-a-modern-office-setting-with-a-large-screen-displ.webp'), ProductOrService(id=4578, name='Inovação em Produtos Digitais', slug='inovacao-em-produtos-digitais', cover_image_url='https://ontologia.eximia.co/wp-content/uploads/2024/05/inovacao-produtos-digitais.webp'), ProductOrService(id=4561, name='Consultoria em Arquitetura de Soluções', slug='consultoria-em-arquitetura-de-solucoes', cover_image_url='https://ontologia.eximia.co/wp-content/uploads/2024/05/DALL·E-2024-05-22-11.18.32-A-formal-16_9-image-illustrating-the-commercial-benefits-of-the-Consultoria-em-Arquitetura-de-Solucoes-offer-by-EximiaCo.-The-image-should-depict-bu.webp'), ProductOrService(id=4556, name='Consultoria para Otimização de Banco de Dados', slug='consultoria-para-otimizacao-de-banco-de-dados', cover_image_url='https://ontologia.eximia.co/wp-content/uploads/2024/05/DALL·E-2024-05-22-08.16.00-A-professional-business-oriented-image-showcasing-the-benefits-of-database-optimization-consulting.-The-image-should-have-a-formal-and-corporate-style.webp'), ProductOrService(id=4551, name='Palestras com Elemar Junior', slug='palestras-com-elemar-junior', cover_image_url='https://ontologia.eximia.co/wp-content/uploads/2024/05/DALL·E-2024-05-21-18.22.21-A-formal-16_9-image-representing-a-corporate-technology-lecture-by-a-bald-speaker-with-glasses.-The-setting-is-a-modern-conference-room-with-the-speak.webp'), ProductOrService(id=4546, name='Consultoria para Mudança entre Ambientes de Nuvem', slug='consultoria-para-mudanca-entre-ambientes-de-nuvem', cover_image_url='https://ontologia.eximia.co/wp-content/uploads/2024/05/DALL·E-2024-05-21-15.48.45-A-simplified-professional-image-in-a-16_9-format-showing-the-concept-of-cloud-migration.-The-image-should-feature-two-cloud-icons-one-labeled-Curre.webp'), ProductOrService(id=4544, name='Consultoria Especializada em Migração para a Nuvem', slug='consultoria-especializada-em-migracao-para-a-nuvem', cover_image_url='https://ontologia.eximia.co/wp-content/uploads/2024/05/DALL·E-2024-05-21-15.25.25-A-formal-16_9-aspect-ratio-image-emphasizing-cloud-migration-consulting-services.-The-image-should-feature-a-professional-business-meeting-setting-wi.webp'), ProductOrService(id=4542, name='Consultoria para Implementação de Ferramentas Baseadas em Visão Computacional', slug='consultoria-para-implementacao-de-ferramentas-baseadas-em-visao-computacional', cover_image_url='https://ontologia.eximia.co/wp-content/uploads/2024/05/DALL·E-2024-05-21-11.32.32-A-formal-commercial-image-depicting-the-benefits-of-implementing-computer-vision-tools.-The-image-should-show-a-modern-office-setting-with-business-pr.webp'), ProductOrService(id=4536, name='Estruturação da Capability de MLOps', slug='estruturacao-da-capability-de-mlops', cover_image_url='https://ontologia.eximia.co/wp-content/uploads/2024/05/DALL·E-2024-05-21-09.23.34-A-formal-business-presentation-slide-showcasing-the-benefits-of-MLOps-consulting-services.-The-slide-includes-a-professional-layout-with-a-sleek-desig.webp'), ProductOrService(id=4526, name='Consultoria para o Desenvolvimento de um Data Product com Power BI Embedded', slug='consultoria-para-o-desenvolvimento-de-um-data-product-com-power-bi-embedded', cover_image_url='https://ontologia.eximia.co/wp-content/uploads/2024/05/DALL·E-2024-05-20-17.45.38-A-professional-formal-16_9-business-presentation-slide-showcasing-examples-of-data-products-developed-with-Power-BI-Embedded-in-a-business-setting.-T.webp'), ProductOrService(id=4524, name='Consultoria para Implementação de Kubernetes', slug='consultoria-para-implementacao-de-kubernetes', cover_image_url='https://ontologia.eximia.co/wp-content/uploads/2024/05/DALL·E-2024-05-20-17.28.03-A-professional-formal-16_9-image-highlighting-the-business-benefits-of-Kubernetes-implementation.-The-image-should-be-clean-and-modern-featuring-key.webp'), ProductOrService(id=4521, name='Consultoria para Desenvolvimento de Soluções Power BI', slug='consultoria-para-desenvolvimento-de-solucoes-power-bi', cover_image_url='https://ontologia.eximia.co/wp-content/uploads/2024/05/DALL·E-2024-05-20-17.07.36-A-formal-business-presentation-slide-showing-the-benefits-of-a-Power-BI-consultancy-offer.-The-slide-includes-a-professional-background-with-a-sleek-d.webp'), ProductOrService(id=4409, name='Estruturação da Capability de Disaster Recovery', slug='estruturacao-da-capability-de-disaster-recovery', cover_image_url='https://ontologia.eximia.co/wp-content/uploads/2024/05/DALL·E-2024-05-17-13.58.13-A-professional-formal-infographic-explaining-the-Disaster-Recovery-Capability-Structuring-service-offered-by-a-technology-consulting-firm.-The-infogr.webp'), ProductOrService(id=4403, name='DPO-as-a-Service', slug='dpo-as-a-service', cover_image_url='https://ontologia.eximia.co/wp-content/uploads/2024/05/DALL·E-2024-05-17-10.38.06-A-formal-professional-image-explaining-the-DPO-as-a-Service-offer-in-a-16_9-format.-The-image-should-include-the-following-key-elements__1.-Title_-.webp'), ProductOrService(id=4311, name='Consultoria para Desenvolvimento de Soluções ETL', slug='consultoria-para-desenvolvimento-de-solucoes-etl', cover_image_url='https://ontologia.eximia.co/wp-content/uploads/2024/05/DALL·E-2024-05-16-08.50.40-A-formal-professional-image-representing-the-Consultoria-para-Desenvolvimento-de-Solucao-ETL-offer.-The-image-should-be-in-a-16_9-format-and-focus-.webp'), ProductOrService(id=4326, name='Mentoria de Alta Performance para Executivos', slug='mentoria-de-alta-performance-para-executivos', cover_image_url='https://ontologia.eximia.co/wp-content/uploads/2024/05/DALL·E-2024-05-16-09.58.52-A-formal-image-of-a-male-executive-reading-from-a-tablet-in-a-professional-setting.-The-background-features-tones-of-blue-and-white-inspired-by-the-b.webp'), ProductOrService(id=3960, name='Follow the Code &#8211; ESSENCIAL', slug='follow-the-code-8211-essencial', cover_image_url='https://ontologia.eximia.co/wp-content/uploads/2024/05/DALL·E-2024-05-10-14.57.19-Create-a-formal-and-clean-16_9-business-oriented-image-representing-the-Follow-the-Code-Essential-service.-The-image-should-depict-a-sophisticated.webp'), ProductOrService(id=3816, name='Academia de Desenvolvimento .NET', slug='academia-de-desenvolvimento-net', cover_image_url='https://ontologia.eximia.co/wp-content/uploads/2024/05/DALL·E-2024-05-08-14.14.55-Create-a-refined-and-less-cluttered-business-oriented-promotional-image-for-a-training-session-titled-C-Complete.-Focus-on-a-minimalist-design-with.webp'), ProductOrService(id=3755, name='Seminário de Introdução a Inteligência Artificial para Executivos', slug='seminario-de-introducao-a-inteligencia-artificial-para-executivos', cover_image_url='https://ontologia.eximia.co/wp-content/uploads/2024/05/elemarjr_artificial_intelligence_to_improve_business_results._M_dcd424fc-0561-4d77-a421-feb290053e0b.png'), ProductOrService(id=2182, name='Capacitação C# do Jeito Certo', slug='capacitacao-c-do-jeito-certo', cover_image_url='https://ontologia.eximia.co/wp-content/uploads/2024/04/DALL·E-2024-04-29-10.09.35-A-professional-and-formal-presentation-image-for-a-corporate-training-session-featuring-a-diverse-group-of-adult-students-and-an-instructor-engaged-i.webp'), ProductOrService(id=2118, name='Ferramentas de IA', slug='ferramentas-de-ia', cover_image_url='https://ontologia.eximia.co/wp-content/uploads/2024/04/DALL·E-2024-04-26-13.49.27-Create-a-formal-business-oriented-image-in-a-16_9-format-focusing-on-the-theme-of-artificial-intelligence-as-a-central-enlarged-digital-brain.-The-i.webp'), ProductOrService(id=1771, name='Consultoria para Governança e Estruturação de APIs', slug='consultoria-para-governanca-e-estruturacao-de-apis', cover_image_url='https://ontologia.eximia.co/wp-content/uploads/2024/04/DALL·E-2024-04-22-13.45.10-A-refined-and-formal-presentation-slide-background-tailored-for-a-technology-consulting-service-about-API-governance.-This-image-should-include-a-more.webp'), ProductOrService(id=1714, name='Assessment em Arquitetura de Software', slug='assessment-em-arquitetura-de-software', cover_image_url='https://ontologia.eximia.co/wp-content/uploads/2024/04/DALL·E-2024-04-19-09.34.49-Design-a-professional-and-sophisticated-widescreen-16_9-image-for-a-business-context-emphasizing-the-Assessment-in-Software-Architecture-theme.-The.webp'), ProductOrService(id=1583, name='Estruturação da Capability de Gestão da Mudança', slug='estruturacao-da-capability-de-gestao-da-mudanca', cover_image_url='https://ontologia.eximia.co/wp-content/uploads/2024/04/DALL·E-2024-04-15-15.41.20-Create-a-highly-formal-business-concept-image-in-a-16_9-format-depicting-a-before-and-after-scenario-for-an-office-setting.-The-before-side-should-.webp'), ProductOrService(id=1464, name='Assessment Panorama Digital', slug='assessment-panorama-digital', cover_image_url='https://ontologia.eximia.co/wp-content/uploads/2024/03/Panorama-digital-1.webp'), ProductOrService(id=1459, name='Plano Estratégico Digital', slug='plano-estrategico-digital', cover_image_url='https://ontologia.eximia.co/wp-content/uploads/2024/04/DALL·E-2024-04-12-13.14.49-A-business-oriented-image-in-a-16_9-format-showing-a-group-of-executives-engaged-in-a-strategic-planning-session.-The-setting-is-a-modern-office-confe.webp'), ProductOrService(id=1286, name='Assessment de Segurança', slug='assessment-de-seguranca', cover_image_url='https://ontologia.eximia.co/wp-content/uploads/2024/04/DALL·E-2024-04-10-16.48.56-A-formal-business-oriented-image-in-a-16_9-aspect-ratio-featuring-servers-a-padlock-symbolizing-security-and-a-reference-to-business-transactions-w.webp'), ProductOrService(id=1253, name='Squad EximiaCo', slug='squad-eximiaco', cover_image_url='https://ontologia.eximia.co/wp-content/uploads/2024/04/DALL·E-2024-04-10-14.04.48-A-modern-and-professional-business-setting-showing-a-diverse-group-of-young-casually-dressed-programmers-working-together-in-a-contemporary-office-en.webp'), ProductOrService(id=1158, name='Modernização de Sistemas Legados', slug='modernizacao-de-sistemas-legados', cover_image_url='https://ontologia.eximia.co/wp-content/uploads/2024/04/DALL·E-2024-04-09-13.58.40-Create-a-sophisticated-and-professional-image-for-a-corporate-audience-illustrating-the-concept-of-software-system-modernization.-The-image-should-de.webp'), ProductOrService(id=1069, name='Fábrica de IAs', slug='fabrica-de-ias', cover_image_url='https://ontologia.eximia.co/wp-content/uploads/2024/04/DALL·E-2024-04-08-14.44.11-Create-a-business-oriented-image-that-visually-represents-the-concept-of-an-AI-Factory.-The-image-should-be-more-sober-and-professional-suitable-fo.webp'), ProductOrService(id=1041, name='Gestão da Nuvem', slug='gestao-da-nuvem', cover_image_url='https://ontologia.eximia.co/wp-content/uploads/2024/04/DALL·E-2024-04-05-13.09.15-Enhance-the-image-to-have-a-more-formal-and-business-oriented-aesthetic-while-maintaining-the-emphasis-on-cloud-management-services.-Design-a-sophisti.webp'), ProductOrService(id=931, name='Mentoria em Arquitetura de Software', slug='mentoria-em-arquitetura-de-software', cover_image_url='https://ontologia.eximia.co/wp-content/uploads/2024/04/DALL·E-2024-04-04-08.12.37-Create-an-image-that-shows-a-diverse-group-of-students-participating-in-an-online-class-meeting.-The-scene-is-displayed-on-a-computer-screen-with-eac.webp'), ProductOrService(id=783, name='Estruturação Capability de Engenharia de Testes', slug='estruturacao-capability-de-engenharia-de-testes', cover_image_url='https://ontologia.eximia.co/wp-content/uploads/2024/03/DALL·E-2024-03-27-15.22.39-Create-an-image-that-visually-represents-software-testing-in-a-16_9-aspect-ratio-without-using-spiders-or-insects-to-symbolize-bugs-or-errors.-Instea.webp'), ProductOrService(id=780, name='Estruturação da Capability de Engenharia de Confiabilidade de Sites (SRE)', slug='estruturacao-da-capability-de-engenharia-de-confiabilidade-de-sites-sre', cover_image_url='https://ontologia.eximia.co/wp-content/uploads/2024/03/DALL·E-2024-03-27-15.07.47-Redesign-the-high-tech-operations-control-room-focused-on-Site-Reliability-Engineering-SRE-by-removing-the-butterfly-from-the-panels.-Instead-the-c.webp'), ProductOrService(id=778, name='Estruturação da Capability de Arquitetura de Software', slug='estruturacao-da-capability-de-arquitetura-de-software', cover_image_url='https://ontologia.eximia.co/wp-content/uploads/2024/03/DALL·E-2024-03-27-15.10.35-Create-a-visual-reference-in-a-16_9-format-for-the-concept-of-Structuring-the-Software-Architecture-Capability-without-using-any-text.-The-image-shoul.webp'), ProductOrService(id=768, name='Estruturação da Capability DevOps', slug='estruturacao-da-capability-devops', cover_image_url='https://ontologia.eximia.co/wp-content/uploads/2024/03/DALL·E-2024-03-26-17.40.34-Illustrate-the-concept-of-DevOps-in-a-16_9-widescreen-format.-The-scene-should-depict-a-harmonious-blend-of-software-development-and-operations.-Imagi.webp'), ProductOrService(id=652, name='Programa ElemarJR de Capacitação Contínua para Profissionais de Tecnologia', slug='programa-elemarjr-de-capacitacao-continua-para-profissionais-de-tecnologia', cover_image_url='https://ontologia.eximia.co/wp-content/uploads/2024/03/programa_elemarjr_cover.png')])"
      ]
     },
     "execution_count": 5,
     "metadata": {},
     "output_type": "execute_result"
    }
   ],
   "execution_count": 5
  },
  {
   "metadata": {},
   "cell_type": "code",
   "source": "ontology.offers",
   "id": "689b756f724fd3f0",
   "outputs": [],
   "execution_count": null
  },
  {
   "metadata": {},
   "cell_type": "code",
   "source": "",
   "id": "c1ae64f706a36669",
   "outputs": [],
   "execution_count": null
  }
 ],
 "metadata": {
  "kernelspec": {
   "display_name": "Python 3",
   "language": "python",
   "name": "python3"
  },
  "language_info": {
   "codemirror_mode": {
    "name": "ipython",
    "version": 2
   },
   "file_extension": ".py",
   "mimetype": "text/x-python",
   "name": "python",
   "nbconvert_exporter": "python",
   "pygments_lexer": "ipython2",
   "version": "2.7.6"
  }
 },
 "nbformat": 4,
 "nbformat_minor": 5
}
