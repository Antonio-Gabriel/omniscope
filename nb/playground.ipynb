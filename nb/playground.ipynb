{
 "cells": [
  {
   "metadata": {
    "ExecuteTime": {
     "end_time": "2024-08-24T00:50:48.077175Z",
     "start_time": "2024-08-24T00:50:48.072217Z"
    }
   },
   "cell_type": "code",
   "source": "from decorators import list_c4_external_systems_from_dir",
   "id": "cd22390857ea2ec2",
   "outputs": [],
   "execution_count": 1
  },
  {
   "metadata": {
    "ExecuteTime": {
     "end_time": "2024-08-24T00:50:49.330504Z",
     "start_time": "2024-08-24T00:50:48.790720Z"
    }
   },
   "cell_type": "code",
   "source": [
    "path = '/Users/elemarjr/Documents/GitHub/elemarjr/omniscope/src/models/semantic'\n",
    "list_c4_external_systems_from_dir(path)"
   ],
   "id": "575db81c64dc01b9",
   "outputs": [
    {
     "data": {
      "text/plain": [
       "[{'name': 'Task Management (TodoIst)',\n",
       "  'description': 'Organizes non-routine tasks such as project-related tasks'},\n",
       " {'name': 'Ontology (Wordpress)',\n",
       "  'description': \"Serves as the company's knowledge base, covering concepts, frameworks, clients, and more\"},\n",
       " {'name': 'Time Tracker (Everhour)',\n",
       "  'description': 'Logs EximiaCo engagements, detailing all projects and hours worked'},\n",
       " {'name': 'Insights (Wordpress)',\n",
       "  'description': 'Where EximiaCo shares lessons learned with clients'},\n",
       " {'name': 'SalesFunnelB2B (Pipedrive)',\n",
       "  'description': 'Information about deals and opportunities B2B'}]"
      ]
     },
     "execution_count": 2,
     "metadata": {},
     "output_type": "execute_result"
    }
   ],
   "execution_count": 2
  },
  {
   "metadata": {},
   "cell_type": "code",
   "source": "",
   "id": "33e1d07acfde69cb",
   "outputs": [],
   "execution_count": null
  }
 ],
 "metadata": {
  "kernelspec": {
   "display_name": "Python 3",
   "language": "python",
   "name": "python3"
  },
  "language_info": {
   "codemirror_mode": {
    "name": "ipython",
    "version": 2
   },
   "file_extension": ".py",
   "mimetype": "text/x-python",
   "name": "python",
   "nbconvert_exporter": "python",
   "pygments_lexer": "ipython2",
   "version": "2.7.6"
  }
 },
 "nbformat": 4,
 "nbformat_minor": 5
}
