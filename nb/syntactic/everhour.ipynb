{
 "cells": [
  {
   "cell_type": "code",
   "execution_count": null,
   "id": "initial_id",
   "metadata": {
    "ExecuteTime": {
     "end_time": "2024-06-23T18:51:09.556760Z",
     "start_time": "2024-06-23T18:51:09.369561Z"
    },
    "collapsed": true
   },
   "outputs": [],
   "source": [
    "import getpass\n",
    "\n",
    "from models.syntactic.everhour import Everhour"
   ]
  },
  {
   "cell_type": "code",
   "execution_count": null,
   "id": "fb98adec",
   "metadata": {},
   "outputs": [],
   "source": [
    "api_token=getpass.getpass(\"Enter Everhour API key:\")"
   ]
  },
  {
   "cell_type": "code",
   "execution_count": 2,
   "id": "90f407a692eafd29",
   "metadata": {
    "ExecuteTime": {
     "end_time": "2024-06-23T18:51:10.399170Z",
     "start_time": "2024-06-23T18:51:10.397130Z"
    }
   },
   "outputs": [],
   "source": [
    "everhour = Everhour(api_token)"
   ]
  },
  {
   "cell_type": "code",
   "execution_count": 3,
   "id": "bcf2a5a7e05b7c4d",
   "metadata": {
    "ExecuteTime": {
     "end_time": "2024-06-23T18:51:13.699373Z",
     "start_time": "2024-06-23T18:51:13.693516Z"
    }
   },
   "outputs": [],
   "source": [
    "from models.helpers.weeks import Weeks\n",
    "starting, ending = Weeks.get_previous_dates(1)\n",
    "\n",
    "starting, ending"
   ]
  },
  {
   "cell_type": "code",
   "execution_count": null,
   "id": "33cd4ad64fce759c",
   "metadata": {},
   "outputs": [],
   "source": [
    "from models.semantic.timetracker import TimeTracker\n",
    "tracker = TimeTracker(everhour)"
   ]
  },
  {
   "cell_type": "code",
   "execution_count": null,
   "id": "9daaa6c68cc883e4",
   "metadata": {},
   "outputs": [],
   "source": [
    "apts = tracker.get_appointments(starting, ending)"
   ]
  },
  {
   "cell_type": "code",
   "execution_count": null,
   "id": "cc48e21e2d350b91",
   "metadata": {},
   "outputs": [],
   "source": [
    "len(apts)"
   ]
  },
  {
   "cell_type": "code",
   "execution_count": null,
   "id": "52a963112eeba407",
   "metadata": {},
   "outputs": [],
   "source": [
    "apts[9].correctness"
   ]
  },
  {
   "cell_type": "code",
   "execution_count": null,
   "id": "3a20b2f0c80f927a",
   "metadata": {},
   "outputs": [],
   "source": [
    "apts[0].user_id"
   ]
  },
  {
   "cell_type": "code",
   "execution_count": null,
   "id": "d256b9aee91e9ff9",
   "metadata": {},
   "outputs": [],
   "source": []
  }
 ],
 "metadata": {
  "kernelspec": {
   "display_name": "Python 3",
   "language": "python",
   "name": "python3"
  },
  "language_info": {
   "codemirror_mode": {
    "name": "ipython",
    "version": 2
   },
   "file_extension": ".py",
   "mimetype": "text/x-python",
   "name": "python",
   "nbconvert_exporter": "python",
   "pygments_lexer": "ipython2",
   "version": "2.7.6"
  }
 },
 "nbformat": 4,
 "nbformat_minor": 5
}
