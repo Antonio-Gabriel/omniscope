{
 "cells": [
  {
   "cell_type": "code",
   "id": "initial_id",
   "metadata": {
    "collapsed": true
   },
   "source": [
    "from models.syntactic.wordpress import Wordpress\n",
    "ontology = Wordpress('https://ontologia.eximia.co')\n",
    "insights = Wordpress('https://insights.eximia.co')\n",
    "elemarjr_blog = Wordpress('https://elemarjr.blog')\n",
    "\n",
    "import logging\n",
    "logging.basicConfig(level=logging.INFO)\n"
   ],
   "outputs": [],
   "execution_count": null
  },
  {
   "metadata": {},
   "cell_type": "code",
   "source": [
    "from models.semantic.ontology import Ontology\n",
    "model = Ontology(ontology)"
   ],
   "id": "e45058548fa2c123",
   "outputs": [],
   "execution_count": null
  },
  {
   "metadata": {},
   "cell_type": "code",
   "source": "ontology.fetch_post_types()",
   "id": "e1a65ca2f6d5c302",
   "outputs": [],
   "execution_count": null
  },
  {
   "metadata": {},
   "cell_type": "code",
   "source": "model.classes",
   "id": "4a20268e5ae85dfb",
   "outputs": [],
   "execution_count": null
  },
  {
   "metadata": {},
   "cell_type": "code",
   "source": "ontology.api_url_for_entity('clientes')",
   "id": "d8ae3b1e6cf4c270",
   "outputs": [],
   "execution_count": null
  },
  {
   "metadata": {},
   "cell_type": "code",
   "source": "model.clients.get_by_slug('anima')",
   "id": "8f3d12fd0ee068bd",
   "outputs": [],
   "execution_count": null
  },
  {
   "metadata": {},
   "cell_type": "code",
   "source": [
    "from models.omnimodels import OmniModels\n",
    "omni = OmniModels()"
   ],
   "id": "56e0463484fe51e0",
   "outputs": [],
   "execution_count": null
  },
  {
   "metadata": {},
   "cell_type": "code",
   "source": "omni.clients.get_by_slug('anima')",
   "id": "895ad52556e91803",
   "outputs": [],
   "execution_count": null
  },
  {
   "metadata": {
    "ExecuteTime": {
     "end_time": "2024-08-07T09:27:41.310411Z",
     "start_time": "2024-08-07T09:27:41.166629Z"
    }
   },
   "cell_type": "code",
   "source": "omni.ontology.clients",
   "id": "4a8a598579d8b280",
   "outputs": [
    {
     "ename": "NameError",
     "evalue": "name 'omni' is not defined",
     "output_type": "error",
     "traceback": [
      "\u001B[0;31m---------------------------------------------------------------------------\u001B[0m",
      "\u001B[0;31mNameError\u001B[0m                                 Traceback (most recent call last)",
      "Cell \u001B[0;32mIn[1], line 1\u001B[0m\n\u001B[0;32m----> 1\u001B[0m omni\u001B[38;5;241m.\u001B[39montology\u001B[38;5;241m.\u001B[39mclients\n",
      "\u001B[0;31mNameError\u001B[0m: name 'omni' is not defined"
     ]
    }
   ],
   "execution_count": 1
  },
  {
   "metadata": {},
   "cell_type": "code",
   "outputs": [],
   "execution_count": null,
   "source": "",
   "id": "20a13abc615756e"
  }
 ],
 "metadata": {
  "kernelspec": {
   "display_name": "Python 3",
   "language": "python",
   "name": "python3"
  },
  "language_info": {
   "codemirror_mode": {
    "name": "ipython",
    "version": 2
   },
   "file_extension": ".py",
   "mimetype": "text/x-python",
   "name": "python",
   "nbconvert_exporter": "python",
   "pygments_lexer": "ipython2",
   "version": "2.7.6"
  }
 },
 "nbformat": 4,
 "nbformat_minor": 5
}
