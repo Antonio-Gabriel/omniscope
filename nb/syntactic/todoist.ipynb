{
 "cells": [
  {
   "cell_type": "code",
   "execution_count": null,
   "id": "93fdf582c51594c9",
   "metadata": {},
   "outputs": [],
   "source": [
    "import pandas as pd\n",
    "import getpass\n",
    "\n",
    "from models.syntactic.todoist import Todoist"
   ]
  },
  {
   "cell_type": "code",
   "execution_count": null,
   "id": "e88c131eff406f53",
   "metadata": {},
   "outputs": [],
   "source": [
    "api_token = getpass.getpass(\"Enter Todoist API key:\")"
   ]
  },
  {
   "cell_type": "code",
   "execution_count": null,
   "id": "ccbb50f57f1f398a",
   "metadata": {},
   "outputs": [],
   "source": [
    "todoist = Todoist(api_token)\n",
    "r = todoist.sync()"
   ]
  },
  {
   "cell_type": "code",
   "execution_count": null,
   "id": "1bb64da5e44d5c6d",
   "metadata": {},
   "outputs": [],
   "source": [
    "todoist.fetch_projects()"
   ]
  },
  {
   "cell_type": "code",
   "execution_count": null,
   "id": "190aca11fb1f7c2d",
   "metadata": {},
   "outputs": [],
   "source": [
    "r"
   ]
  },
  {
   "cell_type": "code",
   "execution_count": null,
   "id": "dbd2d8ba39efc808",
   "metadata": {},
   "outputs": [],
   "source": [
    "r['projects']"
   ]
  },
  {
   "cell_type": "code",
   "execution_count": null,
   "id": "886611ff3f0b47e9",
   "metadata": {},
   "outputs": [],
   "source": [
    "r['folders']"
   ]
  },
  {
   "cell_type": "code",
   "execution_count": null,
   "id": "938516caaf38b964",
   "metadata": {},
   "outputs": [],
   "source": [
    "for p in r['projects']:\n",
    "    print(f'{p[\"name\"]} - {p.get('folder_id')}')"
   ]
  },
  {
   "cell_type": "code",
   "execution_count": null,
   "id": "402ed738a4a90cab",
   "metadata": {},
   "outputs": [],
   "source": [
    "def print_json_structure(data, indent=0):\n",
    "    spacing = '  ' * indent\n",
    "    if isinstance(data, dict):\n",
    "        for key, value in data.items():\n",
    "            print(f\"{spacing}{key}: {type(value).__name__}\")\n",
    "            print_json_structure(value, indent + 1)\n",
    "    elif isinstance(data, list):\n",
    "        print(f\"{spacing}list of {len(data)} items\")\n",
    "        if len(data) > 0:\n",
    "            print_json_structure(data[0], indent + 1)\n",
    "    else:\n",
    "        print(f\"{spacing}{data}\")"
   ]
  },
  {
   "cell_type": "code",
   "execution_count": null,
   "id": "507dceb5286965ae",
   "metadata": {},
   "outputs": [],
   "source": [
    "print_json_structure(r)"
   ]
  },
  {
   "cell_type": "code",
   "execution_count": null,
   "id": "5c1e32d04d0896cd",
   "metadata": {},
   "outputs": [],
   "source": [
    "r['folders']"
   ]
  },
  {
   "cell_type": "code",
   "execution_count": null,
   "id": "f712cf5a81ac5d2f",
   "metadata": {},
   "outputs": [],
   "source": [
    "r['projects'][0]"
   ]
  },
  {
   "cell_type": "code",
   "execution_count": null,
   "id": "1bd26d21bb858823",
   "metadata": {},
   "outputs": [],
   "source": [
    "todoist.fetch_projects()"
   ]
  },
  {
   "cell_type": "code",
   "execution_count": 1,
   "id": "9cde96ecefa1afd4",
   "metadata": {
    "ExecuteTime": {
     "end_time": "2024-07-24T21:53:57.037524Z",
     "start_time": "2024-07-24T21:53:56.558105Z"
    }
   },
   "outputs": [],
   "source": [
    "from models.omnidatasets import TasksDataset"
   ]
  },
  {
   "cell_type": "code",
   "execution_count": 2,
   "id": "b4f24e55385ec012",
   "metadata": {
    "ExecuteTime": {
     "end_time": "2024-07-24T21:53:57.598597Z",
     "start_time": "2024-07-24T21:53:57.595695Z"
    }
   },
   "outputs": [],
   "source": [
    "tds = TasksDataset()"
   ]
  },
  {
   "cell_type": "code",
   "execution_count": 3,
   "id": "fc45469b234a29f4",
   "metadata": {
    "ExecuteTime": {
     "end_time": "2024-07-24T21:53:58.768372Z",
     "start_time": "2024-07-24T21:53:58.764235Z"
    }
   },
   "outputs": [
    {
     "data": {
      "text/plain": [
       "<models.omnidatasets.TasksDataset at 0x145bb93a0>"
      ]
     },
     "execution_count": 3,
     "metadata": {},
     "output_type": "execute_result"
    }
   ],
   "source": [
    "tds"
   ]
  },
  {
   "cell_type": "code",
   "execution_count": 4,
   "id": "2a2a99cc5aebc341",
   "metadata": {
    "ExecuteTime": {
     "end_time": "2024-07-24T21:54:23.380292Z",
     "start_time": "2024-07-24T21:53:59.714497Z"
    }
   },
   "outputs": [],
   "source": [
    "tasks = tds.get()"
   ]
  },
  {
   "cell_type": "code",
   "execution_count": 5,
   "id": "78329e09d89821d3",
   "metadata": {
    "ExecuteTime": {
     "end_time": "2024-07-24T21:54:23.390249Z",
     "start_time": "2024-07-24T21:54:23.381127Z"
    }
   },
   "outputs": [
    {
     "data": {
      "text/html": [
       "<div>\n",
       "<style scoped>\n",
       "    .dataframe tbody tr th:only-of-type {\n",
       "        vertical-align: middle;\n",
       "    }\n",
       "\n",
       "    .dataframe tbody tr th {\n",
       "        vertical-align: top;\n",
       "    }\n",
       "\n",
       "    .dataframe thead th {\n",
       "        text-align: right;\n",
       "    }\n",
       "</style>\n",
       "<table border=\"1\" class=\"dataframe\">\n",
       "  <thead>\n",
       "    <tr style=\"text-align: right;\">\n",
       "      <th></th>\n",
       "      <th>Id</th>\n",
       "      <th>AssigneeId</th>\n",
       "      <th>ProjectId</th>\n",
       "      <th>Content</th>\n",
       "      <th>Description</th>\n",
       "      <th>IsCompleted</th>\n",
       "      <th>Due</th>\n",
       "      <th>ProjectName</th>\n",
       "      <th>Project</th>\n",
       "      <th>ProjectFolder</th>\n",
       "      <th>IsLate</th>\n",
       "      <th>Status</th>\n",
       "      <th>WorkerName</th>\n",
       "    </tr>\n",
       "  </thead>\n",
       "  <tbody>\n",
       "    <tr>\n",
       "      <th>0</th>\n",
       "      <td>8001634315</td>\n",
       "      <td>49283562.0</td>\n",
       "      <td>2333433684</td>\n",
       "      <td>Selecionar cortes do vídeo</td>\n",
       "      <td></td>\n",
       "      <td>False</td>\n",
       "      <td>2024-05-21</td>\n",
       "      <td>O que seus REPOSITÓRIOS FALAM</td>\n",
       "      <td>&lt;a href='https://todoist.com/showProject?id=23...</td>\n",
       "      <td>Conteúdo</td>\n",
       "      <td>True</td>\n",
       "      <td>dalayed</td>\n",
       "      <td>Elemar Júnior</td>\n",
       "    </tr>\n",
       "    <tr>\n",
       "      <th>1</th>\n",
       "      <td>8001647096</td>\n",
       "      <td>49283562.0</td>\n",
       "      <td>2333433684</td>\n",
       "      <td>INSIGHT: Repositórios como \"Redes sociais do D...</td>\n",
       "      <td></td>\n",
       "      <td>False</td>\n",
       "      <td>2024-07-18</td>\n",
       "      <td>O que seus REPOSITÓRIOS FALAM</td>\n",
       "      <td>&lt;a href='https://todoist.com/showProject?id=23...</td>\n",
       "      <td>Conteúdo</td>\n",
       "      <td>True</td>\n",
       "      <td>dalayed</td>\n",
       "      <td>Elemar Júnior</td>\n",
       "    </tr>\n",
       "    <tr>\n",
       "      <th>2</th>\n",
       "      <td>8001648711</td>\n",
       "      <td>49298235.0</td>\n",
       "      <td>2333433684</td>\n",
       "      <td>INSIGHT: Identificar \"acoplamento\" no time</td>\n",
       "      <td>Um ponto crucial levantado por Gabriel é a imp...</td>\n",
       "      <td>False</td>\n",
       "      <td>2024-07-13</td>\n",
       "      <td>O que seus REPOSITÓRIOS FALAM</td>\n",
       "      <td>&lt;a href='https://todoist.com/showProject?id=23...</td>\n",
       "      <td>Conteúdo</td>\n",
       "      <td>True</td>\n",
       "      <td>dalayed</td>\n",
       "      <td>Gabriel S. Kohlrausch</td>\n",
       "    </tr>\n",
       "    <tr>\n",
       "      <th>3</th>\n",
       "      <td>8002244730</td>\n",
       "      <td>49283562.0</td>\n",
       "      <td>2333433684</td>\n",
       "      <td>INSIGHTS</td>\n",
       "      <td></td>\n",
       "      <td>False</td>\n",
       "      <td>2024-07-18</td>\n",
       "      <td>O que seus REPOSITÓRIOS FALAM</td>\n",
       "      <td>&lt;a href='https://todoist.com/showProject?id=23...</td>\n",
       "      <td>Conteúdo</td>\n",
       "      <td>True</td>\n",
       "      <td>dalayed</td>\n",
       "      <td>Elemar Júnior</td>\n",
       "    </tr>\n",
       "    <tr>\n",
       "      <th>4</th>\n",
       "      <td>8007025289</td>\n",
       "      <td>49285228.0</td>\n",
       "      <td>2333434335</td>\n",
       "      <td>Acompanhamento desempenho de anúncios</td>\n",
       "      <td></td>\n",
       "      <td>False</td>\n",
       "      <td>2024-07-31</td>\n",
       "      <td>Lançamento da \"Mentoria de Arquitetura de Soft...</td>\n",
       "      <td>&lt;a href='https://todoist.com/showProject?id=23...</td>\n",
       "      <td>Marketing</td>\n",
       "      <td>False</td>\n",
       "      <td>on time</td>\n",
       "      <td>Franco Alves</td>\n",
       "    </tr>\n",
       "    <tr>\n",
       "      <th>...</th>\n",
       "      <td>...</td>\n",
       "      <td>...</td>\n",
       "      <td>...</td>\n",
       "      <td>...</td>\n",
       "      <td>...</td>\n",
       "      <td>...</td>\n",
       "      <td>...</td>\n",
       "      <td>...</td>\n",
       "      <td>...</td>\n",
       "      <td>...</td>\n",
       "      <td>...</td>\n",
       "      <td>...</td>\n",
       "      <td>...</td>\n",
       "    </tr>\n",
       "    <tr>\n",
       "      <th>210</th>\n",
       "      <td>8232205323</td>\n",
       "      <td>49845872.0</td>\n",
       "      <td>2336733535</td>\n",
       "      <td>Revisar problemas atendidos</td>\n",
       "      <td></td>\n",
       "      <td>False</td>\n",
       "      <td>NaT</td>\n",
       "      <td>Revisão de ofertas</td>\n",
       "      <td>&lt;a href='https://todoist.com/showProject?id=23...</td>\n",
       "      <td>Ontologia</td>\n",
       "      <td>False</td>\n",
       "      <td>on time</td>\n",
       "      <td>Thiago Coelho</td>\n",
       "    </tr>\n",
       "    <tr>\n",
       "      <th>211</th>\n",
       "      <td>8232205326</td>\n",
       "      <td>49845872.0</td>\n",
       "      <td>2336733535</td>\n",
       "      <td>[**Consultoria para Desenvolvimento de Soluçõe...</td>\n",
       "      <td></td>\n",
       "      <td>False</td>\n",
       "      <td>NaT</td>\n",
       "      <td>Revisão de ofertas</td>\n",
       "      <td>&lt;a href='https://todoist.com/showProject?id=23...</td>\n",
       "      <td>Ontologia</td>\n",
       "      <td>False</td>\n",
       "      <td>on time</td>\n",
       "      <td>Thiago Coelho</td>\n",
       "    </tr>\n",
       "    <tr>\n",
       "      <th>212</th>\n",
       "      <td>8232205327</td>\n",
       "      <td>49845872.0</td>\n",
       "      <td>2336733535</td>\n",
       "      <td>Revisar ofertas prévias e complementares</td>\n",
       "      <td></td>\n",
       "      <td>False</td>\n",
       "      <td>NaT</td>\n",
       "      <td>Revisão de ofertas</td>\n",
       "      <td>&lt;a href='https://todoist.com/showProject?id=23...</td>\n",
       "      <td>Ontologia</td>\n",
       "      <td>False</td>\n",
       "      <td>on time</td>\n",
       "      <td>Thiago Coelho</td>\n",
       "    </tr>\n",
       "    <tr>\n",
       "      <th>213</th>\n",
       "      <td>8232205328</td>\n",
       "      <td>49845872.0</td>\n",
       "      <td>2336733535</td>\n",
       "      <td>Revisar problemas atendidos</td>\n",
       "      <td></td>\n",
       "      <td>False</td>\n",
       "      <td>NaT</td>\n",
       "      <td>Revisão de ofertas</td>\n",
       "      <td>&lt;a href='https://todoist.com/showProject?id=23...</td>\n",
       "      <td>Ontologia</td>\n",
       "      <td>False</td>\n",
       "      <td>on time</td>\n",
       "      <td>Thiago Coelho</td>\n",
       "    </tr>\n",
       "    <tr>\n",
       "      <th>214</th>\n",
       "      <td>8232205689</td>\n",
       "      <td>49317596.0</td>\n",
       "      <td>2336733543</td>\n",
       "      <td>Revisão das entregas</td>\n",
       "      <td>Após recebimento dos materiais</td>\n",
       "      <td>False</td>\n",
       "      <td>NaT</td>\n",
       "      <td>Nova produção fotográfica</td>\n",
       "      <td>&lt;a href='https://todoist.com/showProject?id=23...</td>\n",
       "      <td>Núcleo Estratégico ElemarJR / DuoCom</td>\n",
       "      <td>False</td>\n",
       "      <td>on time</td>\n",
       "      <td>Camila Gomes</td>\n",
       "    </tr>\n",
       "  </tbody>\n",
       "</table>\n",
       "<p>215 rows × 13 columns</p>\n",
       "</div>"
      ],
      "text/plain": [
       "             Id  AssigneeId   ProjectId  \\\n",
       "0    8001634315  49283562.0  2333433684   \n",
       "1    8001647096  49283562.0  2333433684   \n",
       "2    8001648711  49298235.0  2333433684   \n",
       "3    8002244730  49283562.0  2333433684   \n",
       "4    8007025289  49285228.0  2333434335   \n",
       "..          ...         ...         ...   \n",
       "210  8232205323  49845872.0  2336733535   \n",
       "211  8232205326  49845872.0  2336733535   \n",
       "212  8232205327  49845872.0  2336733535   \n",
       "213  8232205328  49845872.0  2336733535   \n",
       "214  8232205689  49317596.0  2336733543   \n",
       "\n",
       "                                               Content  \\\n",
       "0                           Selecionar cortes do vídeo   \n",
       "1    INSIGHT: Repositórios como \"Redes sociais do D...   \n",
       "2           INSIGHT: Identificar \"acoplamento\" no time   \n",
       "3                                             INSIGHTS   \n",
       "4                Acompanhamento desempenho de anúncios   \n",
       "..                                                 ...   \n",
       "210                        Revisar problemas atendidos   \n",
       "211  [**Consultoria para Desenvolvimento de Soluçõe...   \n",
       "212           Revisar ofertas prévias e complementares   \n",
       "213                        Revisar problemas atendidos   \n",
       "214                               Revisão das entregas   \n",
       "\n",
       "                                           Description  IsCompleted  \\\n",
       "0                                                             False   \n",
       "1                                                             False   \n",
       "2    Um ponto crucial levantado por Gabriel é a imp...        False   \n",
       "3                                                             False   \n",
       "4                                                             False   \n",
       "..                                                 ...          ...   \n",
       "210                                                           False   \n",
       "211                                                           False   \n",
       "212                                                           False   \n",
       "213                                                           False   \n",
       "214                     Após recebimento dos materiais        False   \n",
       "\n",
       "           Due                                        ProjectName  \\\n",
       "0   2024-05-21                      O que seus REPOSITÓRIOS FALAM   \n",
       "1   2024-07-18                      O que seus REPOSITÓRIOS FALAM   \n",
       "2   2024-07-13                      O que seus REPOSITÓRIOS FALAM   \n",
       "3   2024-07-18                      O que seus REPOSITÓRIOS FALAM   \n",
       "4   2024-07-31  Lançamento da \"Mentoria de Arquitetura de Soft...   \n",
       "..         ...                                                ...   \n",
       "210        NaT                                 Revisão de ofertas   \n",
       "211        NaT                                 Revisão de ofertas   \n",
       "212        NaT                                 Revisão de ofertas   \n",
       "213        NaT                                 Revisão de ofertas   \n",
       "214        NaT                          Nova produção fotográfica   \n",
       "\n",
       "                                               Project  \\\n",
       "0    <a href='https://todoist.com/showProject?id=23...   \n",
       "1    <a href='https://todoist.com/showProject?id=23...   \n",
       "2    <a href='https://todoist.com/showProject?id=23...   \n",
       "3    <a href='https://todoist.com/showProject?id=23...   \n",
       "4    <a href='https://todoist.com/showProject?id=23...   \n",
       "..                                                 ...   \n",
       "210  <a href='https://todoist.com/showProject?id=23...   \n",
       "211  <a href='https://todoist.com/showProject?id=23...   \n",
       "212  <a href='https://todoist.com/showProject?id=23...   \n",
       "213  <a href='https://todoist.com/showProject?id=23...   \n",
       "214  <a href='https://todoist.com/showProject?id=23...   \n",
       "\n",
       "                            ProjectFolder  IsLate   Status  \\\n",
       "0                                Conteúdo    True  dalayed   \n",
       "1                                Conteúdo    True  dalayed   \n",
       "2                                Conteúdo    True  dalayed   \n",
       "3                                Conteúdo    True  dalayed   \n",
       "4                               Marketing   False  on time   \n",
       "..                                    ...     ...      ...   \n",
       "210                             Ontologia   False  on time   \n",
       "211                             Ontologia   False  on time   \n",
       "212                             Ontologia   False  on time   \n",
       "213                             Ontologia   False  on time   \n",
       "214  Núcleo Estratégico ElemarJR / DuoCom   False  on time   \n",
       "\n",
       "                WorkerName  \n",
       "0            Elemar Júnior  \n",
       "1            Elemar Júnior  \n",
       "2    Gabriel S. Kohlrausch  \n",
       "3            Elemar Júnior  \n",
       "4             Franco Alves  \n",
       "..                     ...  \n",
       "210          Thiago Coelho  \n",
       "211          Thiago Coelho  \n",
       "212          Thiago Coelho  \n",
       "213          Thiago Coelho  \n",
       "214           Camila Gomes  \n",
       "\n",
       "[215 rows x 13 columns]"
      ]
     },
     "execution_count": 5,
     "metadata": {},
     "output_type": "execute_result"
    }
   ],
   "source": [
    "tasks.data"
   ]
  },
  {
   "cell_type": "code",
   "execution_count": null,
   "id": "74ddc7edda1c6bb0",
   "metadata": {},
   "outputs": [],
   "source": [
    "tasks.data.info()"
   ]
  },
  {
   "cell_type": "code",
   "execution_count": 6,
   "id": "48e5aa5c9bb0aee3",
   "metadata": {
    "ExecuteTime": {
     "end_time": "2024-07-24T21:54:31.741739Z",
     "start_time": "2024-07-24T21:54:31.739932Z"
    }
   },
   "outputs": [
    {
     "data": {
      "text/plain": [
       "Index(['Id', 'AssigneeId', 'ProjectId', 'Content', 'Description',\n",
       "       'IsCompleted', 'Due', 'ProjectName', 'Project', 'ProjectFolder',\n",
       "       'IsLate', 'Status', 'WorkerName'],\n",
       "      dtype='object')"
      ]
     },
     "execution_count": 6,
     "metadata": {},
     "output_type": "execute_result"
    }
   ],
   "source": [
    "tasks.data.columns"
   ]
  },
  {
   "cell_type": "code",
   "execution_count": null,
   "id": "a820d2f642861b87",
   "metadata": {},
   "outputs": [],
   "source": []
  }
 ],
 "metadata": {
  "kernelspec": {
   "display_name": "Python 3",
   "language": "python",
   "name": "python3"
  },
  "language_info": {
   "codemirror_mode": {
    "name": "ipython",
    "version": 2
   },
   "file_extension": ".py",
   "mimetype": "text/x-python",
   "name": "python",
   "nbconvert_exporter": "python",
   "pygments_lexer": "ipython2",
   "version": "2.7.6"
  }
 },
 "nbformat": 4,
 "nbformat_minor": 5
}
