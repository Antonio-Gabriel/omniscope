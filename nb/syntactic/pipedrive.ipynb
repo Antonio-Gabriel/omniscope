{
 "cells": [
  {
   "cell_type": "code",
   "execution_count": 1,
   "id": "8a08906153af865",
   "metadata": {
    "ExecuteTime": {
     "end_time": "2024-07-14T20:29:02.806719Z",
     "start_time": "2024-07-14T20:29:02.306715Z"
    }
   },
   "outputs": [],
   "source": [
    "import getpass\n",
    "\n",
    "from models.syntactic.pipedrive import Pipedrive\n",
    "from models.semantic.salesfunnel import SalesFunnelB2B\n"
   ]
  },
  {
   "cell_type": "code",
   "execution_count": null,
   "id": "9bdf41ce",
   "metadata": {},
   "outputs": [],
   "source": [
    "api_token = getpass.getpass(\"Enter Pipedrive API key:\")"
   ]
  },
  {
   "cell_type": "code",
   "execution_count": null,
   "id": "7b420489",
   "metadata": {},
   "outputs": [],
   "source": [
    "pipedrive = Pipedrive(api_token)\n",
    "model = SalesFunnelB2B(pipedrive)\n",
    "from models.omnimodels import OmniModels\n",
    "omni = OmniModels()"
   ]
  },
  {
   "cell_type": "code",
   "execution_count": 2,
   "id": "50943abfa59cfc7a",
   "metadata": {
    "ExecuteTime": {
     "end_time": "2024-07-14T20:29:04.947750Z",
     "start_time": "2024-07-14T20:29:04.127512Z"
    }
   },
   "outputs": [],
   "source": [
    "orgs = pipedrive.fetch_clients()"
   ]
  },
  {
   "cell_type": "code",
   "execution_count": 3,
   "id": "14b0529d204986ef",
   "metadata": {
    "ExecuteTime": {
     "end_time": "2024-07-14T20:29:05.617855Z",
     "start_time": "2024-07-14T20:29:05.612729Z"
    }
   },
   "outputs": [],
   "source": [
    "orgs[0]"
   ]
  },
  {
   "cell_type": "code",
   "execution_count": 4,
   "id": "827c2266b9c38bdc",
   "metadata": {
    "ExecuteTime": {
     "end_time": "2024-07-14T20:29:10.955810Z",
     "start_time": "2024-07-14T20:29:06.561708Z"
    }
   },
   "outputs": [],
   "source": [
    "d = omni.get_last_six_weeks_am_activities_df()"
   ]
  },
  {
   "cell_type": "code",
   "execution_count": 5,
   "id": "af62b7a3c5170fcc",
   "metadata": {
    "ExecuteTime": {
     "end_time": "2024-07-14T20:29:11.637091Z",
     "start_time": "2024-07-14T20:29:11.620092Z"
    }
   },
   "outputs": [],
   "source": [
    "d.data"
   ]
  },
  {
   "cell_type": "code",
   "execution_count": null,
   "id": "e8a310bddaf29c7e",
   "metadata": {},
   "outputs": [],
   "source": []
  }
 ],
 "metadata": {
  "kernelspec": {
   "display_name": "Python 3",
   "language": "python",
   "name": "python3"
  },
  "language_info": {
   "codemirror_mode": {
    "name": "ipython",
    "version": 2
   },
   "file_extension": ".py",
   "mimetype": "text/x-python",
   "name": "python",
   "nbconvert_exporter": "python",
   "pygments_lexer": "ipython2",
   "version": "2.7.6"
  }
 },
 "nbformat": 4,
 "nbformat_minor": 5
}
